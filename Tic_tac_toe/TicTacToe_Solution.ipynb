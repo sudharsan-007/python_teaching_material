{
  "nbformat": 4,
  "nbformat_minor": 0,
  "metadata": {
    "colab": {
      "name": "TicTacToe_Solution.ipynb",
      "provenance": [],
      "collapsed_sections": []
    },
    "kernelspec": {
      "name": "python3",
      "display_name": "Python 3"
    }
  },
  "cells": [
    {
      "cell_type": "code",
      "metadata": {
        "id": "wjK4HpT4nRy1"
      },
      "source": [
        "import numpy as np\n",
        "\n",
        "matrix_demo = np.array([\n",
        "[\"2\",\"3\",\"3\"],\n",
        "[\"4\",\"5\",\"6\"],\n",
        "[\"3\",\"4\",\"5\"]\n",
        "])"
      ],
      "execution_count": 1,
      "outputs": []
    },
    {
      "cell_type": "code",
      "metadata": {
        "colab": {
          "base_uri": "https://localhost:8080/"
        },
        "id": "MKOz473XnVdm",
        "outputId": "8f1c41e4-ced9-4adb-aaa0-d90d2485e235"
      },
      "source": [
        "print(matrix_demo)"
      ],
      "execution_count": 3,
      "outputs": [
        {
          "output_type": "stream",
          "text": [
            "[['2' '3' '3']\n",
            " ['4' '5' '6']\n",
            " ['3' '4' '5']]\n"
          ],
          "name": "stdout"
        }
      ]
    },
    {
      "cell_type": "code",
      "metadata": {
        "id": "uTWf_2SyzHog"
      },
      "source": [
        "matrix =  np.array([\n",
        "    [\" \",\" \",\" \"],\n",
        "    [\" \",\" \",\" \"],\n",
        "    [\" \",\" \",\" \"]\n",
        "])"
      ],
      "execution_count": 4,
      "outputs": []
    },
    {
      "cell_type": "code",
      "metadata": {
        "id": "9mElabsmnYvJ"
      },
      "source": [
        "def show_matrix(show_matrix):\n",
        "  print('\\n')\n",
        "  print(\" {} | {} | {} \".format(show_matrix[0][0],show_matrix[0][1],show_matrix[0][2]))\n",
        "  print(\"___________\")\n",
        "  print(\" {} | {} | {} \".format(show_matrix[1][0],show_matrix[1][1],show_matrix[1][2]))\n",
        "  print(\"___________\")\n",
        "  print(\" {} | {} | {} \".format(show_matrix[2][0],show_matrix[2][1],show_matrix[2][2]))"
      ],
      "execution_count": 5,
      "outputs": []
    },
    {
      "cell_type": "code",
      "metadata": {
        "colab": {
          "base_uri": "https://localhost:8080/"
        },
        "id": "ip68CLcipJ-9",
        "outputId": "d4429426-73d4-4c4f-ef9f-4e63bcfa2875"
      },
      "source": [
        "show_matrix(matrix_demo)"
      ],
      "execution_count": 6,
      "outputs": [
        {
          "output_type": "stream",
          "text": [
            "\n",
            "\n",
            " 2 | 3 | 3 \n",
            "___________\n",
            " 4 | 5 | 6 \n",
            "___________\n",
            " 3 | 4 | 5 \n"
          ],
          "name": "stdout"
        }
      ]
    },
    {
      "cell_type": "code",
      "metadata": {
        "colab": {
          "base_uri": "https://localhost:8080/"
        },
        "id": "H_BddAcZz35J",
        "outputId": "5851bab3-d586-4b45-dfbc-552ed0f31e98"
      },
      "source": [
        "show_matrix(matrix)"
      ],
      "execution_count": 7,
      "outputs": [
        {
          "output_type": "stream",
          "text": [
            "\n",
            "\n",
            "   |   |   \n",
            "___________\n",
            "   |   |   \n",
            "___________\n",
            "   |   |   \n"
          ],
          "name": "stdout"
        }
      ]
    },
    {
      "cell_type": "code",
      "metadata": {
        "id": "ohRC5V_7pL28"
      },
      "source": [
        "def get_input():\n",
        "    a = int(input('type the column: '))\n",
        "    b = int(input('type the row: '))\n",
        "    return(a-1,b-1)"
      ],
      "execution_count": 8,
      "outputs": []
    },
    {
      "cell_type": "code",
      "metadata": {
        "colab": {
          "base_uri": "https://localhost:8080/"
        },
        "id": "fI3RCQq4yv06",
        "outputId": "bc1ccac3-e031-4638-ed8b-c56401b8914f"
      },
      "source": [
        "get_input()"
      ],
      "execution_count": 9,
      "outputs": [
        {
          "output_type": "stream",
          "text": [
            "type the column: 1\n",
            "type the row: 2\n"
          ],
          "name": "stdout"
        },
        {
          "output_type": "execute_result",
          "data": {
            "text/plain": [
              "(0, 1)"
            ]
          },
          "metadata": {
            "tags": []
          },
          "execution_count": 9
        }
      ]
    },
    {
      "cell_type": "code",
      "metadata": {
        "colab": {
          "base_uri": "https://localhost:8080/"
        },
        "id": "L6HObd95yw0s",
        "outputId": "911685b5-699f-492f-e2bc-ec18800c2a62"
      },
      "source": [
        "# main game loop\n",
        "for n in range(1,10):\n",
        "\n",
        "    # even number n means O turn\n",
        "    if n%2 == 0:\n",
        "        position = get_input()\n",
        "        x = position[0]\n",
        "        y = position[1]\n",
        "        if matrix[x][y] != 'X':\n",
        "            matrix[x][y] = 'O'\n",
        "        show_matrix(matrix)\n",
        "\n",
        "    # odd number n means x turn\n",
        "    elif n%2 != 0:\n",
        "        position = get_input()\n",
        "        x = position[0]\n",
        "        y = position[1]\n",
        "        if matrix[x][y] != 'O':\n",
        "            matrix[x][y] = 'X'\n",
        "        show_matrix(matrix)"
      ],
      "execution_count": 10,
      "outputs": [
        {
          "output_type": "stream",
          "text": [
            "type the column: 1\n",
            "type the row: 2\n",
            "\n",
            "\n",
            "   | X |   \n",
            "___________\n",
            "   |   |   \n",
            "___________\n",
            "   |   |   \n",
            "type the column: 2\n",
            "type the row: 2\n",
            "\n",
            "\n",
            "   | X |   \n",
            "___________\n",
            "   | O |   \n",
            "___________\n",
            "   |   |   \n",
            "type the column: 1\n",
            "type the row: 1\n",
            "\n",
            "\n",
            " X | X |   \n",
            "___________\n",
            "   | O |   \n",
            "___________\n",
            "   |   |   \n",
            "type the column: 3\n",
            "type the row: 3\n",
            "\n",
            "\n",
            " X | X |   \n",
            "___________\n",
            "   | O |   \n",
            "___________\n",
            "   |   | O \n",
            "type the column: 1\n",
            "type the row: 3\n",
            "\n",
            "\n",
            " X | X | X \n",
            "___________\n",
            "   | O |   \n",
            "___________\n",
            "   |   | O \n",
            "type the column: 2\n",
            "type the row: 1\n",
            "\n",
            "\n",
            " X | X | X \n",
            "___________\n",
            " O | O |   \n",
            "___________\n",
            "   |   | O \n",
            "type the column: 2\n",
            "type the row: 3\n",
            "\n",
            "\n",
            " X | X | X \n",
            "___________\n",
            " O | O | X \n",
            "___________\n",
            "   |   | O \n",
            "type the column: 3\n",
            "type the row: 1\n",
            "\n",
            "\n",
            " X | X | X \n",
            "___________\n",
            " O | O | X \n",
            "___________\n",
            " O |   | O \n",
            "type the column: 3\n",
            "type the row: 2\n",
            "\n",
            "\n",
            " X | X | X \n",
            "___________\n",
            " O | O | X \n",
            "___________\n",
            " O | X | O \n"
          ],
          "name": "stdout"
        }
      ]
    },
    {
      "cell_type": "code",
      "metadata": {
        "id": "7khy2CrwzrM-"
      },
      "source": [
        "def check_matrix(result_matrix,b):\n",
        "    # Diagonal Check\n",
        "    if result_matrix[0][0] == result_matrix[1][1] == result_matrix[2][2] == b:\n",
        "        print('{} is in all diagonal'.format(b))\n",
        "        print('{} won'.format(b))\n",
        "        return True\n",
        "    elif result_matrix[0][2] == result_matrix[1][1] == result_matrix[2][0] == b:\n",
        "        print('{} is in all reverse diagonal'.format(b))\n",
        "        print('{} won'.format(b))\n",
        "        return True\n",
        "\n",
        "    ## check for Draw \n",
        "    elif result_matrix[0][0] != \" \" and result_matrix[0][1] != \" \" and result_matrix[0][2] != \" \" and result_matrix[1][0] != \" \" and result_matrix[1][1] != \" \" and result_matrix[1][2] != \" \" and result_matrix[2][0] != \" \" and result_matrix[2][1] != \" \" and result_matrix[2][2] != \" \":\n",
        "        print(\"the match is draw\")\n",
        "        return True\n",
        "    \n",
        "\n",
        "    # straight lines check\n",
        "    for i in range(0,3):\n",
        "        if result_matrix[i][0] == result_matrix[i][1] == result_matrix[i][2] == b:\n",
        "            print('{} row is same {}'.format(i,b))\n",
        "            print('{} won'.format(b))\n",
        "            return True\n",
        "    for j in range(0,3):\n",
        "        if result_matrix[0][j] == result_matrix[1][j] == result_matrix[2][j] == b:\n",
        "            print('{} column is same {}'.format(j,b))\n",
        "            print('{} won'.format(b))\n",
        "            return True"
      ],
      "execution_count": null,
      "outputs": []
    },
    {
      "cell_type": "code",
      "metadata": {
        "colab": {
          "base_uri": "https://localhost:8080/"
        },
        "id": "_LKDFa6n0eBI",
        "outputId": "79c5bbf8-37f6-42b8-9968-2d25e0b67679"
      },
      "source": [
        "matrix_check =  np.array([\n",
        "    [\"X\",\" \",\" \"],\n",
        "    [\" \",\"X\",\" \"],\n",
        "    [\" \",\" \",\"X\"]\n",
        "])\n",
        "\n",
        "check_matrix(matrix_check,\"X\")"
      ],
      "execution_count": null,
      "outputs": [
        {
          "output_type": "stream",
          "text": [
            "X is in all diagonal\n",
            "X won\n"
          ],
          "name": "stdout"
        },
        {
          "output_type": "execute_result",
          "data": {
            "text/plain": [
              "True"
            ]
          },
          "metadata": {
            "tags": []
          },
          "execution_count": 23
        }
      ]
    },
    {
      "cell_type": "code",
      "metadata": {
        "id": "kkZYY8gu0828"
      },
      "source": [
        "# Tic-tac-toe python tutorial\n",
        "import numpy as np\n",
        "\n",
        "matrix =  np.array([\n",
        "    [\" \",\" \",\" \"],\n",
        "    [\" \",\" \",\" \"],\n",
        "    [\" \",\" \",\" \"]\n",
        "])\n",
        "\n",
        "def show_matrix(show_result):\n",
        "    print('\\n')\n",
        "    print(\" {} | {} | {}\".format(show_result[0][0],show_result[0][1],show_result[0][2]))\n",
        "    print(\"____________\")\n",
        "    print(\" {} | {} | {}\".format(show_result[1][0],show_result[1][1],show_result[1][2]))\n",
        "    print(\"____________\")\n",
        "    print(\" {} | {} | {}\".format(show_result[2][0],show_result[2][1],show_result[2][2]))\n",
        "\n",
        "\n",
        "def get_input():\n",
        "    a = int(input('type the column: '))\n",
        "    b = int(input('type the row: '))\n",
        "    return(a-1,b-1)\n",
        "\n",
        "def check_matrix(result_matrix,b):\n",
        "    # Diagonal Check\n",
        "    if result_matrix[0][0] == result_matrix[1][1] == result_matrix[2][2] == b:\n",
        "        print('{} is in all diagonal'.format(b))\n",
        "        print('{} won'.format(b))\n",
        "        return True\n",
        "    elif result_matrix[0][2] == result_matrix[1][1] == result_matrix[2][0] == b:\n",
        "        print('{} is in all reverse diagonal'.format(b))\n",
        "        print('{} won'.format(b))\n",
        "        return True\n",
        "\n",
        "    ## check for Draw \n",
        "    elif result_matrix[0][0] != \" \" and result_matrix[0][1] != \" \" and result_matrix[0][2] != \" \" and result_matrix[1][0] != \" \" and result_matrix[1][1] != \" \" and result_matrix[1][2] != \" \" and result_matrix[2][0] != \" \" and result_matrix[2][1] != \" \" and result_matrix[2][2] != \" \":\n",
        "        print(\"the match is draw\")\n",
        "        return True\n",
        "    \n",
        "\n",
        "    # straight lines check\n",
        "    for i in range(0,3):\n",
        "        if result_matrix[i][0] == result_matrix[i][1] == result_matrix[i][2] == b:\n",
        "            print('{} column is same {}'.format(i,b))\n",
        "            print('{} won'.format(b))\n",
        "            return True\n",
        "    for j in range(0,3):\n",
        "        if result_matrix[0][j] == result_matrix[1][j] == result_matrix[2][j] == b:\n",
        "            print('{} column is same {}'.format(j,b))\n",
        "            print('{} won'.format(b))\n",
        "            return True\n",
        "\n",
        "# main game loop\n",
        "for n in range(1,10):\n",
        "    c = False\n",
        "\n",
        "    # even number n means O turn\n",
        "    if n%2 == 0:\n",
        "        position = get_input()\n",
        "        x = position[0]\n",
        "        y = position[1]\n",
        "        if matrix[x][y] != 'X':\n",
        "            matrix[x][y] = 'O'\n",
        "        c = check_matrix(matrix,\"O\")\n",
        "        show_matrix(matrix)\n",
        "        if c == True:\n",
        "            break\n",
        "\n",
        "    # odd number n means x turn\n",
        "    elif n%2 != 0:\n",
        "        position = get_input()\n",
        "        x = position[0]\n",
        "        y = position[1]\n",
        "        if matrix[x][y] != 'O':\n",
        "            matrix[x][y] = 'X'\n",
        "        c = check_matrix(matrix,\"X\")\n",
        "        show_matrix(matrix)\n",
        "        if c == True:\n",
        "            break\n",
        "        "
      ],
      "execution_count": null,
      "outputs": []
    }
  ]
}