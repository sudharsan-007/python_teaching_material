{
  "nbformat": 4,
  "nbformat_minor": 0,
  "metadata": {
    "colab": {
      "name": "TicTacToe_question.ipynb",
      "provenance": []
    },
    "kernelspec": {
      "name": "python3",
      "display_name": "Python 3"
    }
  },
  "cells": [
    {
      "cell_type": "code",
      "metadata": {
        "id": "HwkN2S3m8zVm"
      },
      "source": [
        "import numpy as np\n",
        "\n",
        "matrix_demo = np.array([\n",
        "[\"2\",\"3\",\"3\"],\n",
        "[\"4\",\"5\",\"6\"],\n",
        "[\"3\",\"4\",\"5\"]\n",
        "])"
      ],
      "execution_count": 1,
      "outputs": []
    },
    {
      "cell_type": "code",
      "metadata": {
        "colab": {
          "base_uri": "https://localhost:8080/"
        },
        "id": "au2lOTUK81io",
        "outputId": "55dbc5b8-cb85-4c33-9bf3-9cf017d9763b"
      },
      "source": [
        "print(matrix_demo)"
      ],
      "execution_count": 2,
      "outputs": [
        {
          "output_type": "stream",
          "text": [
            "[['2' '3' '3']\n",
            " ['4' '5' '6']\n",
            " ['3' '4' '5']]\n"
          ],
          "name": "stdout"
        }
      ]
    },
    {
      "cell_type": "code",
      "metadata": {
        "id": "vlW7ZZqB83c4"
      },
      "source": [
        "# make a blank matrix..\n",
        "\n",
        "matrix =  ## plz code here ##   # use np.array([]) # dont miss the blackets and comma ,"
      ],
      "execution_count": 3,
      "outputs": []
    },
    {
      "cell_type": "code",
      "metadata": {
        "id": "iHuheCNY88yD"
      },
      "source": [
        "def show_matrix(show_matrix):\n",
        "  print('\\n')\n",
        "  print(\" {} | {} | {} \".format(show_matrix[0][0],show_matrix[0][1],show_matrix[0][2]))\n",
        "  print(\"___________\")\n",
        "  print(\" {} | {} | {} \".format(show_matrix[1][0],show_matrix[1][1],show_matrix[1][2]))\n",
        "  print(\"___________\")\n",
        "  print(\" {} | {} | {} \".format(show_matrix[2][0],show_matrix[2][1],show_matrix[2][2]))"
      ],
      "execution_count": 4,
      "outputs": []
    },
    {
      "cell_type": "code",
      "metadata": {
        "colab": {
          "base_uri": "https://localhost:8080/"
        },
        "id": "aNbs-XHi9g9r",
        "outputId": "19a164fa-8e24-428e-9e9f-100f9502e6b3"
      },
      "source": [
        "show_matrix(matrix_demo)"
      ],
      "execution_count": 5,
      "outputs": [
        {
          "output_type": "stream",
          "text": [
            "\n",
            "\n",
            " 2 | 3 | 3 \n",
            "___________\n",
            " 4 | 5 | 6 \n",
            "___________\n",
            " 3 | 4 | 5 \n"
          ],
          "name": "stdout"
        }
      ]
    },
    {
      "cell_type": "code",
      "metadata": {
        "id": "UV7MjFed9kgM"
      },
      "source": [
        "show_matrix(matrix)"
      ],
      "execution_count": null,
      "outputs": []
    },
    {
      "cell_type": "code",
      "metadata": {
        "colab": {
          "base_uri": "https://localhost:8080/"
        },
        "id": "EDMkcb_U9pys",
        "outputId": "73bb789c-18d1-4ea5-9ed4-2d9b9868323b"
      },
      "source": [
        "## how to get input from user ## \n",
        "a = input(\"type a number\")\n",
        "print(\"this number is a {}\".format(type(a))) # note that the input we take exists as string\n",
        "# we have to cast/convert this string from input into an integer"
      ],
      "execution_count": 6,
      "outputs": [
        {
          "output_type": "stream",
          "text": [
            "type a number4\n",
            "this number is a <class 'str'>\n"
          ],
          "name": "stdout"
        }
      ]
    },
    {
      "cell_type": "code",
      "metadata": {
        "colab": {
          "base_uri": "https://localhost:8080/"
        },
        "id": "nIf2y0Q791TT",
        "outputId": "4c9eb03f-8d4a-44db-9524-df7daed4974d"
      },
      "source": [
        "a = input(\"type a number\")\n",
        "a = int(a) # this line has converted the \n",
        "print(\"this number is a {}\".format(type(a)))"
      ],
      "execution_count": 8,
      "outputs": [
        {
          "output_type": "stream",
          "text": [
            "type a number2\n",
            "this number is a <class 'int'>\n"
          ],
          "name": "stdout"
        }
      ]
    },
    {
      "cell_type": "code",
      "metadata": {
        "colab": {
          "base_uri": "https://localhost:8080/"
        },
        "id": "YvIvNk0rCckO",
        "outputId": "7f1654cc-9393-42b8-9eaa-5ca69f48ff1e"
      },
      "source": [
        "# compacting the above line of code\n",
        "a = int(input('type the column: '))\n",
        "print(\"this number is a {}\".format(type(a)))"
      ],
      "execution_count": 9,
      "outputs": [
        {
          "output_type": "stream",
          "text": [
            "type the column: 2\n"
          ],
          "name": "stdout"
        }
      ]
    },
    {
      "cell_type": "code",
      "metadata": {
        "id": "nA5H4Mj19oE5"
      },
      "source": [
        "# plz remove \"pass\" and code this function to get 2 values: row and column\n",
        "# the function has to return the values not print it.\n",
        "def get_input():\n",
        "    pass   "
      ],
      "execution_count": 10,
      "outputs": []
    },
    {
      "cell_type": "code",
      "metadata": {
        "colab": {
          "base_uri": "https://localhost:8080/"
        },
        "id": "ZTDGX43VEjdH",
        "outputId": "df37c36a-a5fb-41c5-a80d-97f3ba905cd9"
      },
      "source": [
        "# run the function to check if its working\n",
        "get_input()"
      ],
      "execution_count": 12,
      "outputs": [
        {
          "output_type": "stream",
          "text": [
            "type the column: 2\n",
            "type the row: 3\n"
          ],
          "name": "stdout"
        },
        {
          "output_type": "execute_result",
          "data": {
            "text/plain": [
              "(1, 2)"
            ]
          },
          "metadata": {
            "tags": []
          },
          "execution_count": 12
        }
      ]
    },
    {
      "cell_type": "code",
      "metadata": {
        "id": "1Bgnyzl8ErZh"
      },
      "source": [
        "# use loop and create the main code for game\n",
        "# the game has to run only 9 times, since it can take only maximum of 9 inputs to end the game\n",
        "# Hint: use for loop in range (1,10)\n",
        "# when looping when i is even be \"X\" player and vice-versa\n",
        "# inside if and ifelse statements get the input from user first , save it as x and y \n",
        "# OPTIONAL - then, [check if that place is occupied by other player]\n",
        "# place \"X\" or \"O\" in the location given by user\n",
        "# and finally print the matrix using the function \"show_matrix\""
      ],
      "execution_count": 14,
      "outputs": []
    },
    {
      "cell_type": "code",
      "metadata": {
        "id": "d5rl4h0tLJIG"
      },
      "source": [
        "# main game loop\n",
        "\n",
        "    # even number n means \"O\" turn\n",
        "\n",
        "\n",
        "\n",
        "    # odd number n means \"X\" turn\n",
        "\n",
        "\n",
        "\n",
        "\n",
        "    "
      ],
      "execution_count": null,
      "outputs": []
    },
    {
      "cell_type": "code",
      "metadata": {
        "id": "VT4_SH_4YH4N"
      },
      "source": [
        ""
      ],
      "execution_count": null,
      "outputs": []
    },
    {
      "cell_type": "code",
      "metadata": {
        "id": "mp9oUBLsVe_i"
      },
      "source": [
        "## 21 lines of code(approx) ## \n",
        "# this function check_matrix has to check if any diagonal or horizontal or vertical places match.\n",
        "# if matches it should print who won and why? \n",
        "# ADDD AT LAST ALSO - this should return true if someone won\n",
        "# diagonal check there are 2 diagonal in the matrix\n",
        "# check rows and columns thats 2 for loops \n",
        "# check if its draw\n",
        "\n",
        "\n",
        "def check_matrix(result_matrix,b):\n",
        "  pass"
      ],
      "execution_count": null,
      "outputs": []
    },
    {
      "cell_type": "code",
      "metadata": {
        "id": "YPnE4fDqYMMZ"
      },
      "source": [
        "matrix_check =  np.array([\n",
        "    [\"X\",\" \",\" \"],\n",
        "    [\" \",\"X\",\" \"],\n",
        "    [\" \",\" \",\"X\"]\n",
        "])\n",
        "\n",
        "check_matrix(matrix_check,\"X\")"
      ],
      "execution_count": null,
      "outputs": []
    },
    {
      "cell_type": "code",
      "metadata": {
        "id": "NbWTRJ07YP7l"
      },
      "source": [
        "# initiate the matrix as blank \n",
        "# add all three functions here \n",
        "# add the main game loop\n",
        "\n",
        "\n",
        "\n",
        "\n",
        "\n",
        "# game is done- very good"
      ],
      "execution_count": null,
      "outputs": []
    }
  ]
}